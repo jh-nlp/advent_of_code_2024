{
 "cells": [
  {
   "cell_type": "code",
   "execution_count": 25,
   "metadata": {},
   "outputs": [],
   "source": [
    "# part 1 solution\n",
    "import re\n",
    "\n",
    "def read_file(input_file_path):\n",
    "    s = []\n",
    "    with open(input_file_path, 'r') as f:\n",
    "        line = f.readlines()\n",
    "        s+=(line)\n",
    "    return s\n",
    "\n",
    "def count_horizontals(txt):\n",
    "    horizontals = 0 \n",
    "    for line in txt:\n",
    "        horizontals+=len(re.findall('XMAS',line))\n",
    "        horizontals+=len(re.findall('XMAS',line[::-1]))\n",
    "    return horizontals\n",
    "\n",
    "def count_verticals(txt):\n",
    "    transposed_txt = [''.join(s) for s in zip(*txt)]\n",
    "    return count_horizontals(transposed_txt) \n",
    "\n",
    "def get_sliding_windows_of_four(txt):\n",
    "    windows = []\n",
    "    for row in range(len(txt)-3):\n",
    "        window = txt[row:row+4]\n",
    "        windows.append(window)\n",
    "    return windows    \n",
    "\n",
    "def shift_window_leftwards(window):\n",
    "    return [row[i:]+ '.'* (i) for i, row in enumerate(window)]\n",
    "\n",
    "def shift_window_rightwards(window): \n",
    "    return ['.'* (i) + row[:-i] if i > 0 else row for i, row in enumerate(window)]\n",
    "\n",
    "\n",
    "def count_diagnoals(windows):\n",
    "    diagonals = 0\n",
    "    for window in windows:\n",
    "        diagonals+= count_verticals(shift_window_leftwards(window)) + count_verticals(shift_window_rightwards(window))\n",
    "    return diagonals\n",
    "\n",
    "def solution_pt1(input_file_path):\n",
    "    # read in data\n",
    "    s = read_file(input_file_path)\n",
    "\n",
    "    # preprocess\n",
    "    txt = [line.rstrip() for line in s]\n",
    "    windows = get_sliding_windows_of_four(txt)\n",
    "\n",
    "    # counts\n",
    "    horizontals = count_horizontals(txt)\n",
    "    verticals = count_verticals(txt)\n",
    "    diagnonals = count_diagnoals(windows)\n",
    "\n",
    "    return horizontals + verticals + diagnonals\n",
    "    \n",
    "def solution_pt2(input_file_path):\n",
    "    # read in data\n",
    "    s = read_file(input_file_path)\n",
    "\n",
    "    # preprocess\n",
    "    txt = [line.rstrip()  for line in s]\n",
    "\n",
    "    # real business\n",
    "    counter = 0\n",
    "    for i, row in enumerate(txt):\n",
    "        if (i == 0) or (i == len(txt)-1):\n",
    "            continue\n",
    "        for j, char in enumerate(row):\n",
    "            if (j == 0) or (j == len(txt[0])-1):\n",
    "                continue\n",
    "            if char =='A':\n",
    "                top_left, top_right, bottom_left, bottom_right = txt[i-1][j-1], txt[i-1][j+1], txt[i+1][j-1], txt[i+1][j+1]\n",
    "                if (set([top_left, bottom_right]) == set(['M', 'S'])) and (set([top_right,bottom_left]) == set(['M', 'S'])):\n",
    "                    counter += 1\n",
    "    return counter"
   ]
  },
  {
   "cell_type": "code",
   "execution_count": 7,
   "metadata": {},
   "outputs": [
    {
     "data": {
      "text/plain": [
       "2468"
      ]
     },
     "execution_count": 7,
     "metadata": {},
     "output_type": "execute_result"
    }
   ],
   "source": [
    "solution_pt1(\"input_4.txt\")"
   ]
  },
  {
   "cell_type": "code",
   "execution_count": 26,
   "metadata": {},
   "outputs": [
    {
     "data": {
      "text/plain": [
       "1864"
      ]
     },
     "execution_count": 26,
     "metadata": {},
     "output_type": "execute_result"
    }
   ],
   "source": [
    "solution_pt2(\"input_4.txt\")"
   ]
  },
  {
   "cell_type": "markdown",
   "metadata": {},
   "source": [
    "## scratchpad for part 1"
   ]
  },
  {
   "cell_type": "code",
   "execution_count": 2,
   "metadata": {},
   "outputs": [],
   "source": [
    "s = []\n",
    "with open('test.txt', 'r') as f:\n",
    "    line = f.readlines()\n",
    "    s+=(line)"
   ]
  },
  {
   "cell_type": "code",
   "execution_count": 3,
   "metadata": {},
   "outputs": [
    {
     "data": {
      "text/plain": [
       "['MMMSXXMASM\\n',\n",
       " 'MSAMXMSMSA\\n',\n",
       " 'AMXSXMAAMM\\n',\n",
       " 'MSAMASMSMX\\n',\n",
       " 'XMASAMXAMM\\n',\n",
       " 'XXAMMXXAMA\\n',\n",
       " 'SMSMSASXSS\\n',\n",
       " 'SAXAMASAAA\\n',\n",
       " 'MAMMMXMMMM\\n',\n",
       " 'MXMXAXMASX']"
      ]
     },
     "execution_count": 3,
     "metadata": {},
     "output_type": "execute_result"
    }
   ],
   "source": [
    "s"
   ]
  },
  {
   "cell_type": "code",
   "execution_count": 4,
   "metadata": {},
   "outputs": [
    {
     "data": {
      "text/plain": [
       "['MMMSXXMASM',\n",
       " 'MSAMXMSMSA',\n",
       " 'AMXSXMAAMM',\n",
       " 'MSAMASMSMX',\n",
       " 'XMASAMXAMM',\n",
       " 'XXAMMXXAMA',\n",
       " 'SMSMSASXSS',\n",
       " 'SAXAMASAAA',\n",
       " 'MAMMMXMMMM',\n",
       " 'MXMXAXMASX']"
      ]
     },
     "execution_count": 4,
     "metadata": {},
     "output_type": "execute_result"
    }
   ],
   "source": [
    "txt = [line.replace('\\n','') for line in s]\n",
    "txt"
   ]
  },
  {
   "cell_type": "code",
   "execution_count": 5,
   "metadata": {},
   "outputs": [
    {
     "data": {
      "text/plain": [
       "5"
      ]
     },
     "execution_count": 5,
     "metadata": {},
     "output_type": "execute_result"
    }
   ],
   "source": [
    "import re\n",
    "def count_horizontals(txt):\n",
    "    horizontals = 0 \n",
    "    for line in txt:\n",
    "        horizontals+=len(re.findall('XMAS',line))\n",
    "        horizontals+=len(re.findall('XMAS',line[::-1]))\n",
    "    return horizontals\n",
    "\n",
    "horizontals = count_horizontals(txt) \n",
    "horizontals"
   ]
  },
  {
   "cell_type": "code",
   "execution_count": 18,
   "metadata": {},
   "outputs": [
    {
     "data": {
      "text/plain": [
       "3"
      ]
     },
     "execution_count": 18,
     "metadata": {},
     "output_type": "execute_result"
    }
   ],
   "source": [
    "def count_verticals(txt):\n",
    "    transposed_txt = [''.join(s) for s in zip(*txt)]\n",
    "    return count_horizontals(transposed_txt) \n",
    "verticals = count_verticals(txt)\n",
    "verticals"
   ]
  },
  {
   "cell_type": "code",
   "execution_count": 15,
   "metadata": {},
   "outputs": [
    {
     "name": "stdout",
     "output_type": "stream",
     "text": [
      "MMMSXXMASM\n",
      "MSAMXMSMSA\n",
      "AMXSXMAAMM\n",
      "MSAMASMSMX\n"
     ]
    }
   ],
   "source": [
    "windows = []\n",
    "for row in range(len(txt)-3):\n",
    "    window = txt[row:row+4]\n",
    "    windows.append(window)\n",
    "\n",
    "for i in windows[0]:\n",
    "    print(i)"
   ]
  },
  {
   "cell_type": "code",
   "execution_count": 40,
   "metadata": {},
   "outputs": [
    {
     "name": "stdout",
     "output_type": "stream",
     "text": [
      "==shift to left==\n",
      "MMMSXXMASM\n",
      "SAMXMSMSA.\n",
      "XSXMAAMM..\n",
      "MASMSMX...\n",
      "==shift to right==\n",
      "MMMSXXMASM\n",
      ".MSAMXMSMS\n",
      "..AMXSXMAA\n",
      "...MSAMASM\n"
     ]
    }
   ],
   "source": [
    "def shift_window_leftwards(window):\n",
    "    return [row[i:]+ '.'* (i) for i, row in enumerate(window)]\n",
    "\n",
    "def shift_window_rightwards(window): \n",
    "    return ['.'* (i) + row[:-i] if i > 0 else row for i, row in enumerate(window)]\n",
    "window = windows[0]\n",
    "shifted_window = shift_window_rightwards(window)\n",
    "print('==shift to left==')\n",
    "for i in shift_window_leftwards(window):\n",
    "    print(i)\n",
    "print('==shift to right==')\n",
    "for i in shift_window_rightwards(window):\n",
    "    print(i)\n",
    "\n"
   ]
  },
  {
   "cell_type": "code",
   "execution_count": 47,
   "metadata": {},
   "outputs": [
    {
     "data": {
      "text/plain": [
       "10"
      ]
     },
     "execution_count": 47,
     "metadata": {},
     "output_type": "execute_result"
    }
   ],
   "source": [
    "def count_diagnoals(windows):\n",
    "    diagonals = 0\n",
    "    for window in windows:\n",
    "        diagonals+= count_verticals(shift_window_leftwards(window)) + count_verticals(shift_window_rightwards(window))\n",
    "    return diagonals\n",
    "diagnonals = count_diagnoals(windows)\n",
    "diagnonals"
   ]
  },
  {
   "cell_type": "code",
   "execution_count": 48,
   "metadata": {},
   "outputs": [
    {
     "data": {
      "text/plain": [
       "18"
      ]
     },
     "execution_count": 48,
     "metadata": {},
     "output_type": "execute_result"
    }
   ],
   "source": [
    "horizontals + verticals + diagnonals"
   ]
  },
  {
   "cell_type": "markdown",
   "metadata": {},
   "source": [
    "## Scratch for part 2"
   ]
  },
  {
   "cell_type": "code",
   "execution_count": 9,
   "metadata": {},
   "outputs": [
    {
     "data": {
      "text/plain": [
       "['MMMSXXMASM',\n",
       " 'MSAMXMSMSA',\n",
       " 'AMXSXMAAMM',\n",
       " 'MSAMASMSMX',\n",
       " 'XMASAMXAMM',\n",
       " 'XXAMMXXAMA',\n",
       " 'SMSMSASXSS',\n",
       " 'SAXAMASAAA',\n",
       " 'MAMMMXMMMM',\n",
       " 'MXMXAXMASX']"
      ]
     },
     "execution_count": 9,
     "metadata": {},
     "output_type": "execute_result"
    }
   ],
   "source": [
    "s = read_file(\"test.txt\")\n",
    "txt = [line.replace('\\n','') for line in s]\n",
    "txt"
   ]
  },
  {
   "cell_type": "code",
   "execution_count": 24,
   "metadata": {},
   "outputs": [
    {
     "name": "stdout",
     "output_type": "stream",
     "text": [
      "1 2 M M M S\n",
      "bingo\n",
      "2 6 M M S S\n",
      "bingo\n",
      "2 7 S S M M\n",
      "bingo\n",
      "3 2 M M M S\n",
      "bingo\n",
      "3 4 S S S M\n",
      "bingo\n",
      "4 2 S S X M\n",
      "4 4 M M M X\n",
      "4 7 M M X M\n",
      "5 2 M M M M\n",
      "5 7 X X S S\n",
      "6 5 M M M S\n",
      "7 1 S S M M\n",
      "bingo\n",
      "7 3 S S M M\n",
      "bingo\n",
      "7 5 S S M M\n",
      "bingo\n",
      "7 7 S S M M\n",
      "bingo\n",
      "7 8 X X M M\n",
      "8 1 S S M M\n"
     ]
    },
    {
     "data": {
      "text/plain": [
       "9"
      ]
     },
     "execution_count": 24,
     "metadata": {},
     "output_type": "execute_result"
    }
   ],
   "source": [
    "counter = 0\n",
    "for i, row in enumerate(txt):\n",
    "    if (i == 0) or (i == len(txt)-1):\n",
    "        continue\n",
    "    for j, char in enumerate(row):\n",
    "        if (j == 0) or (j == len(txt[0])-1):\n",
    "            continue\n",
    "        if char =='A':\n",
    "            top_left, top_right, bottom_left, bottom_right = txt[i-1][j-1], txt[i-1][j+1], txt[i+1][j-1], txt[i+1][j+1]\n",
    "            print(i, j, top_left, top_left, bottom_left, bottom_right)\n",
    "            if (set([top_left, bottom_right]) == set(['M', 'S'])) and (set([top_right,bottom_left]) == set(['M', 'S'])):\n",
    "                counter += 1\n",
    "                print('bingo')\n",
    "counter"
   ]
  },
  {
   "cell_type": "code",
   "execution_count": null,
   "metadata": {},
   "outputs": [],
   "source": []
  }
 ],
 "metadata": {
  "kernelspec": {
   "display_name": "env-bms",
   "language": "python",
   "name": "python3"
  },
  "language_info": {
   "codemirror_mode": {
    "name": "ipython",
    "version": 3
   },
   "file_extension": ".py",
   "mimetype": "text/x-python",
   "name": "python",
   "nbconvert_exporter": "python",
   "pygments_lexer": "ipython3",
   "version": "3.12.3"
  }
 },
 "nbformat": 4,
 "nbformat_minor": 2
}
