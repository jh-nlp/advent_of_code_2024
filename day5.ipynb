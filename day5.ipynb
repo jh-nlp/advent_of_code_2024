{
 "cells": [
  {
   "cell_type": "code",
   "execution_count": 61,
   "metadata": {},
   "outputs": [],
   "source": [
    "def read_file(input_file_path):\n",
    "    with open(input_file_path, 'r') as f:\n",
    "        lines = f.readlines()\n",
    "    return lines\n",
    "\n",
    "\n",
    "def preprocess(s):\n",
    "    # separate two parts\n",
    "    separater = s.index('\\n')\n",
    "    rules = s[:separater]\n",
    "    updates = s[separater+1:] \n",
    "\n",
    "    # clean up format\n",
    "    rules = [rule.rstrip().split('|') for rule in rules]\n",
    "    rules = [(int(rule[0]), int(rule[1]))for rule in rules]\n",
    "\n",
    "    updates = [update.rstrip().split(',') for update in updates]\n",
    "    updates = [[int(val) for val in update] for update in updates]\n",
    "\n",
    "    return rules, updates\n",
    "\n",
    "\n",
    "def get_allowed_after_vals(rules):\n",
    "    allowed_after_vals = dict()\n",
    "    for rule in rules:\n",
    "        first = rule[0]\n",
    "        later = rule[1]\n",
    "        if not allowed_after_vals.get(first):\n",
    "            new = {first:[later]}\n",
    "            allowed_after_vals.update(new)\n",
    "        else:\n",
    "            allowed_after_vals[first].append(later)\n",
    "    return allowed_after_vals\n",
    "        \n",
    "def check_update(update, rules):\n",
    "    relevant_rules = [rule for rule in rules if rule[0] in update and rule[1] in update]\n",
    "    for rule in relevant_rules:\n",
    "        first = rule[0]\n",
    "        later = rule[1]\n",
    "        if update.index(first) > update.index(later):\n",
    "            return False\n",
    "    return True\n",
    "\n",
    "def check_udpate_v2(update:list, allowed_after_vals:dict):\n",
    "    # functionally the same as check_update but using a data structure for allowed_after_vals that makes pt2 easier\n",
    "    for i, x in enumerate(update):\n",
    "        if not allowed_after_vals.get(x):\n",
    "            continue\n",
    "        vals_actually_before_x = set(update[:i])\n",
    "        allowed_vals_after_x = set(allowed_after_vals[x])\n",
    "        if len(vals_actually_before_x.intersection(allowed_vals_after_x))>0:\n",
    "            # if any value before x in update is in the after vals, then it violates the rule\n",
    "            return False\n",
    "    return True\n",
    "\n",
    "def find_mid_num(lst):\n",
    "    return lst[len(lst)//2]\n",
    "    \n",
    "def find_corrected_mid_num(update:list, allowed_after_vals:dict):\n",
    "    # find the would-have-been correct mid number in a wrong update had it been correct\n",
    "    correct_after_value_count = len(update)//2\n",
    "    for i, x in enumerate(update):\n",
    "        if not allowed_after_vals.get(x):\n",
    "            continue\n",
    "        allowed_vals_after_x = set(allowed_after_vals[x])\n",
    "        rest_of_update = set(update[:i]+ update[i+1:])  # assume no duplicates in update\n",
    "        assert len(rest_of_update) == len(update)-1\n",
    "        if len(rest_of_update.intersection(allowed_vals_after_x)) == correct_after_value_count:\n",
    "            return x\n",
    "\n",
    "\n",
    "def solution_pt1(input_file_path):\n",
    "    s = read_file(input_file_path)\n",
    "    rules, updates = preprocess(s)\n",
    "\n",
    "    checks = [check_update(update, rules) for update in updates]\n",
    "    return sum([find_mid_num(update) for check, update in zip(checks, updates) if check])\n",
    "\n",
    "\n",
    "def solution_pt2(input_file_path):\n",
    "    s = read_file(input_file_path)\n",
    "    rules, updates = preprocess(s)\n",
    "    allowed_after_vals = get_allowed_after_vals(rules)\n",
    "\n",
    "    checks = [check_udpate_v2(update, allowed_after_vals) for update in updates] # could use check_udpate too. \n",
    "    incorrect_updates = [update for check, update in zip(checks, updates) if not check] \n",
    "    return sum([find_corrected_mid_num(update, allowed_after_vals) for update in incorrect_updates])"
   ]
  },
  {
   "cell_type": "code",
   "execution_count": 97,
   "metadata": {},
   "outputs": [
    {
     "data": {
      "text/plain": [
       "5129"
      ]
     },
     "execution_count": 97,
     "metadata": {},
     "output_type": "execute_result"
    }
   ],
   "source": [
    "solution_pt1('input_5.txt')"
   ]
  },
  {
   "cell_type": "code",
   "execution_count": 62,
   "metadata": {},
   "outputs": [
    {
     "data": {
      "text/plain": [
       "4077"
      ]
     },
     "execution_count": 62,
     "metadata": {},
     "output_type": "execute_result"
    }
   ],
   "source": [
    "solution_pt2('input_5.txt')"
   ]
  },
  {
   "cell_type": "markdown",
   "metadata": {},
   "source": [
    "scratchpad"
   ]
  },
  {
   "cell_type": "code",
   "execution_count": 3,
   "metadata": {},
   "outputs": [],
   "source": [
    "def read_file(input_file_path):\n",
    "    with open(input_file_path, 'r') as f:\n",
    "        lines = f.readlines()\n",
    "    return lines\n",
    "\n",
    "s = read_file('test.txt')\n",
    "\n",
    "separater = s.index('\\n')\n",
    "rules = s[:separater]\n",
    "updates = s[separater+1:]"
   ]
  },
  {
   "cell_type": "code",
   "execution_count": 4,
   "metadata": {},
   "outputs": [
    {
     "data": {
      "text/plain": [
       "[(47, 53),\n",
       " (97, 13),\n",
       " (97, 61),\n",
       " (97, 47),\n",
       " (75, 29),\n",
       " (61, 13),\n",
       " (75, 53),\n",
       " (29, 13),\n",
       " (97, 29),\n",
       " (53, 29),\n",
       " (61, 53),\n",
       " (97, 53),\n",
       " (61, 29),\n",
       " (47, 13),\n",
       " (75, 47),\n",
       " (97, 75),\n",
       " (47, 61),\n",
       " (75, 61),\n",
       " (47, 29),\n",
       " (75, 13),\n",
       " (53, 13)]"
      ]
     },
     "execution_count": 4,
     "metadata": {},
     "output_type": "execute_result"
    }
   ],
   "source": [
    "rules = [rule.rstrip().split('|') for rule in rules]\n",
    "rules = [(int(rule[0]), int(rule[1]))for rule in rules]\n",
    "rules"
   ]
  },
  {
   "cell_type": "code",
   "execution_count": 5,
   "metadata": {},
   "outputs": [
    {
     "data": {
      "text/plain": [
       "[[75, 47, 61, 53, 29],\n",
       " [97, 61, 53, 29, 13],\n",
       " [75, 29, 13],\n",
       " [75, 97, 47, 61, 53],\n",
       " [61, 13, 29],\n",
       " [97, 13, 75, 29, 47]]"
      ]
     },
     "execution_count": 5,
     "metadata": {},
     "output_type": "execute_result"
    }
   ],
   "source": [
    "updates = [update.rstrip().split(',') for update in updates]\n",
    "updates = [[int(val) for val in update] for update in updates]\n",
    "updates"
   ]
  },
  {
   "cell_type": "code",
   "execution_count": 6,
   "metadata": {},
   "outputs": [],
   "source": [
    "def find_mid_num(lst):\n",
    "    return lst[len(lst)//2]"
   ]
  },
  {
   "cell_type": "markdown",
   "metadata": {},
   "source": [
    "part 1"
   ]
  },
  {
   "cell_type": "code",
   "execution_count": 92,
   "metadata": {},
   "outputs": [],
   "source": [
    "def check_update(update, rules):\n",
    "    relevant_rules = [rule for rule in rules if rule[0] in update and rule[1] in update]\n",
    "    for rule in relevant_rules:\n",
    "        first = rule[0]\n",
    "        later = rule[1]\n",
    "        if update.index(first) > update.index(later):\n",
    "            return False\n",
    "    return True"
   ]
  },
  {
   "cell_type": "code",
   "execution_count": 95,
   "metadata": {},
   "outputs": [
    {
     "name": "stdout",
     "output_type": "stream",
     "text": [
      "[True, True, True, False, False, False]\n"
     ]
    },
    {
     "data": {
      "text/plain": [
       "143"
      ]
     },
     "execution_count": 95,
     "metadata": {},
     "output_type": "execute_result"
    }
   ],
   "source": [
    "checks = [check_update(update, rules) for update in updates]\n",
    "print(checks)\n",
    "sum([find_mid_num(update) for check, update in zip(checks, updates) if check])"
   ]
  },
  {
   "cell_type": "markdown",
   "metadata": {},
   "source": [
    "part 2"
   ]
  },
  {
   "cell_type": "code",
   "execution_count": 7,
   "metadata": {},
   "outputs": [
    {
     "data": {
      "text/plain": [
       "[(47, 53),\n",
       " (97, 13),\n",
       " (97, 61),\n",
       " (97, 47),\n",
       " (75, 29),\n",
       " (61, 13),\n",
       " (75, 53),\n",
       " (29, 13),\n",
       " (97, 29),\n",
       " (53, 29),\n",
       " (61, 53),\n",
       " (97, 53),\n",
       " (61, 29),\n",
       " (47, 13),\n",
       " (75, 47),\n",
       " (97, 75),\n",
       " (47, 61),\n",
       " (75, 61),\n",
       " (47, 29),\n",
       " (75, 13),\n",
       " (53, 13)]"
      ]
     },
     "execution_count": 7,
     "metadata": {},
     "output_type": "execute_result"
    }
   ],
   "source": [
    "rules"
   ]
  },
  {
   "cell_type": "code",
   "execution_count": 8,
   "metadata": {},
   "outputs": [],
   "source": [
    "def get_allowed_after_vals(rules):\n",
    "    allowed_after_vals = dict()\n",
    "    for rule in rules:\n",
    "        first = rule[0]\n",
    "        later = rule[1]\n",
    "        if not allowed_after_vals.get(first):\n",
    "            new = {first:[later]}\n",
    "            allowed_after_vals.update(new)\n",
    "        else:\n",
    "            allowed_after_vals[first].append(later)\n",
    "    return allowed_after_vals\n",
    "        "
   ]
  },
  {
   "cell_type": "code",
   "execution_count": 12,
   "metadata": {},
   "outputs": [
    {
     "data": {
      "text/plain": [
       "{47: [53, 13, 61, 29],\n",
       " 97: [13, 61, 47, 29, 53, 75],\n",
       " 75: [29, 53, 47, 61, 13],\n",
       " 61: [13, 53, 29],\n",
       " 29: [13],\n",
       " 53: [29, 13]}"
      ]
     },
     "execution_count": 12,
     "metadata": {},
     "output_type": "execute_result"
    }
   ],
   "source": [
    "allowed_after_vals = get_allowed_after_vals(rules)\n",
    "allowed_after_vals"
   ]
  },
  {
   "cell_type": "code",
   "execution_count": 17,
   "metadata": {},
   "outputs": [
    {
     "data": {
      "text/plain": [
       "[[75, 47, 61, 53, 29],\n",
       " [97, 61, 53, 29, 13],\n",
       " [75, 29, 13],\n",
       " [75, 97, 47, 61, 53],\n",
       " [61, 13, 29],\n",
       " [97, 13, 75, 29, 47]]"
      ]
     },
     "execution_count": 17,
     "metadata": {},
     "output_type": "execute_result"
    }
   ],
   "source": [
    "updates"
   ]
  },
  {
   "cell_type": "code",
   "execution_count": 24,
   "metadata": {},
   "outputs": [
    {
     "data": {
      "text/plain": [
       "[[75, 97, 47, 61, 53], [61, 13, 29], [97, 13, 75, 29, 47]]"
      ]
     },
     "execution_count": 24,
     "metadata": {},
     "output_type": "execute_result"
    }
   ],
   "source": [
    "def check_udpate_v2(update:list, allowed_after_vals:dict):\n",
    "    for i, x in enumerate(update):\n",
    "        if not allowed_after_vals.get(x):\n",
    "            continue\n",
    "        vals_actually_before_x = set(update[:i])\n",
    "        allowed_vals_after_x = set(allowed_after_vals[x])\n",
    "        if len(vals_actually_before_x.intersection(allowed_vals_after_x))>0:\n",
    "            # if any value before x in update is in the after vals, then it violates the rule\n",
    "            return False\n",
    "    return True\n",
    "checks = [check_udpate_v2(update, allowed_after_vals) for update in updates]\n",
    "incorrect_updates = [update for check, update in zip(checks, updates) if not check] \n",
    "incorrect_updates     \n"
   ]
  },
  {
   "cell_type": "code",
   "execution_count": 25,
   "metadata": {},
   "outputs": [],
   "source": [
    "def find_corrected_mid_num(update:list, allowed_after_vals:dict):\n",
    "    # find the would-have-been correct mid number in a wrong update had it been correct\n",
    "    correct_after_value_count = len(update)//2\n",
    "    for i, x in enumerate(update):\n",
    "        if not allowed_after_vals.get(x):\n",
    "            continue\n",
    "        allowed_vals_after_x = set(allowed_after_vals[x])\n",
    "        rest_of_update = set(update[:i]+ update[i+1:])  # assume no duplicates in update\n",
    "        if len(rest_of_update.intersection(allowed_vals_after_x)) ==correct_after_value_count:\n",
    "            return x"
   ]
  },
  {
   "cell_type": "code",
   "execution_count": 27,
   "metadata": {},
   "outputs": [
    {
     "data": {
      "text/plain": [
       "123"
      ]
     },
     "execution_count": 27,
     "metadata": {},
     "output_type": "execute_result"
    }
   ],
   "source": [
    "sum([find_corrected_mid_num(update, allowed_after_vals) for update in incorrect_updates])"
   ]
  },
  {
   "cell_type": "code",
   "execution_count": null,
   "metadata": {},
   "outputs": [],
   "source": []
  }
 ],
 "metadata": {
  "kernelspec": {
   "display_name": "env-bms",
   "language": "python",
   "name": "python3"
  },
  "language_info": {
   "codemirror_mode": {
    "name": "ipython",
    "version": 3
   },
   "file_extension": ".py",
   "mimetype": "text/x-python",
   "name": "python",
   "nbconvert_exporter": "python",
   "pygments_lexer": "ipython3",
   "version": "3.12.3"
  }
 },
 "nbformat": 4,
 "nbformat_minor": 2
}
