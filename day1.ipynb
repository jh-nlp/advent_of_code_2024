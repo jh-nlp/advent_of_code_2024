{
 "cells": [
  {
   "cell_type": "code",
   "execution_count": 35,
   "metadata": {},
   "outputs": [],
   "source": [
    "import pandas as pd\n",
    "\n",
    "df = pd.read_csv('input_1.txt', header = None)\n",
    "df.columns =['values']\n",
    "df[['list1', 'list2']] = df['values'].str.split(expand = True)"
   ]
  },
  {
   "cell_type": "code",
   "execution_count": 47,
   "metadata": {},
   "outputs": [
    {
     "data": {
      "text/html": [
       "<div>\n",
       "<style scoped>\n",
       "    .dataframe tbody tr th:only-of-type {\n",
       "        vertical-align: middle;\n",
       "    }\n",
       "\n",
       "    .dataframe tbody tr th {\n",
       "        vertical-align: top;\n",
       "    }\n",
       "\n",
       "    .dataframe thead th {\n",
       "        text-align: right;\n",
       "    }\n",
       "</style>\n",
       "<table border=\"1\" class=\"dataframe\">\n",
       "  <thead>\n",
       "    <tr style=\"text-align: right;\">\n",
       "      <th></th>\n",
       "      <th>values</th>\n",
       "      <th>list1</th>\n",
       "      <th>list2</th>\n",
       "    </tr>\n",
       "  </thead>\n",
       "  <tbody>\n",
       "    <tr>\n",
       "      <th>0</th>\n",
       "      <td>38450   56790</td>\n",
       "      <td>38450</td>\n",
       "      <td>56790</td>\n",
       "    </tr>\n",
       "    <tr>\n",
       "      <th>1</th>\n",
       "      <td>94765   36795</td>\n",
       "      <td>94765</td>\n",
       "      <td>36795</td>\n",
       "    </tr>\n",
       "    <tr>\n",
       "      <th>2</th>\n",
       "      <td>89694   26251</td>\n",
       "      <td>89694</td>\n",
       "      <td>26251</td>\n",
       "    </tr>\n",
       "    <tr>\n",
       "      <th>3</th>\n",
       "      <td>96083   99006</td>\n",
       "      <td>96083</td>\n",
       "      <td>99006</td>\n",
       "    </tr>\n",
       "    <tr>\n",
       "      <th>4</th>\n",
       "      <td>57068   30577</td>\n",
       "      <td>57068</td>\n",
       "      <td>30577</td>\n",
       "    </tr>\n",
       "    <tr>\n",
       "      <th>...</th>\n",
       "      <td>...</td>\n",
       "      <td>...</td>\n",
       "      <td>...</td>\n",
       "    </tr>\n",
       "    <tr>\n",
       "      <th>995</th>\n",
       "      <td>23906   61328</td>\n",
       "      <td>23906</td>\n",
       "      <td>61328</td>\n",
       "    </tr>\n",
       "    <tr>\n",
       "      <th>996</th>\n",
       "      <td>57479   72207</td>\n",
       "      <td>57479</td>\n",
       "      <td>72207</td>\n",
       "    </tr>\n",
       "    <tr>\n",
       "      <th>997</th>\n",
       "      <td>37900   90011</td>\n",
       "      <td>37900</td>\n",
       "      <td>90011</td>\n",
       "    </tr>\n",
       "    <tr>\n",
       "      <th>998</th>\n",
       "      <td>25566   23322</td>\n",
       "      <td>25566</td>\n",
       "      <td>23322</td>\n",
       "    </tr>\n",
       "    <tr>\n",
       "      <th>999</th>\n",
       "      <td>22377   46878</td>\n",
       "      <td>22377</td>\n",
       "      <td>46878</td>\n",
       "    </tr>\n",
       "  </tbody>\n",
       "</table>\n",
       "<p>1000 rows × 3 columns</p>\n",
       "</div>"
      ],
      "text/plain": [
       "            values  list1  list2\n",
       "0    38450   56790  38450  56790\n",
       "1    94765   36795  94765  36795\n",
       "2    89694   26251  89694  26251\n",
       "3    96083   99006  96083  99006\n",
       "4    57068   30577  57068  30577\n",
       "..             ...    ...    ...\n",
       "995  23906   61328  23906  61328\n",
       "996  57479   72207  57479  72207\n",
       "997  37900   90011  37900  90011\n",
       "998  25566   23322  25566  23322\n",
       "999  22377   46878  22377  46878\n",
       "\n",
       "[1000 rows x 3 columns]"
      ]
     },
     "execution_count": 47,
     "metadata": {},
     "output_type": "execute_result"
    }
   ],
   "source": [
    "df"
   ]
  },
  {
   "cell_type": "code",
   "execution_count": 43,
   "metadata": {},
   "outputs": [],
   "source": [
    "list1 = df['list1'].values.tolist()\n",
    "list2 = df['list2'].values.tolist()\n",
    "list1 = [int(val) for val in list1]\n",
    "list2 = [int(val) for val in list2]"
   ]
  },
  {
   "cell_type": "code",
   "execution_count": 44,
   "metadata": {},
   "outputs": [
    {
     "data": {
      "text/plain": [
       "1666427"
      ]
     },
     "execution_count": 44,
     "metadata": {},
     "output_type": "execute_result"
    }
   ],
   "source": [
    "sorted_list1 = sorted(list1)\n",
    "sorted_list2 = sorted(list2)\n",
    "sum([abs(val1 - val2) for val1, val2 in zip(sorted_list1, sorted_list2)])"
   ]
  },
  {
   "cell_type": "code",
   "execution_count": 46,
   "metadata": {},
   "outputs": [
    {
     "data": {
      "text/plain": [
       "24316233"
      ]
     },
     "execution_count": 46,
     "metadata": {},
     "output_type": "execute_result"
    }
   ],
   "source": [
    "from collections import Counter\n",
    "counter = Counter(list2)\n",
    "similarity_score = 0\n",
    "for x in list1:\n",
    "    if x in list2:\n",
    "        similarity_score += x*counter[x]\n",
    "similarity_score"
   ]
  },
  {
   "cell_type": "code",
   "execution_count": null,
   "metadata": {},
   "outputs": [],
   "source": []
  }
 ],
 "metadata": {
  "kernelspec": {
   "display_name": "conda(env-bms)",
   "language": "python",
   "name": "env-bms"
  },
  "language_info": {
   "codemirror_mode": {
    "name": "ipython",
    "version": 3
   },
   "file_extension": ".py",
   "mimetype": "text/x-python",
   "name": "python",
   "nbconvert_exporter": "python",
   "pygments_lexer": "ipython3",
   "version": "3.12.3"
  }
 },
 "nbformat": 4,
 "nbformat_minor": 2
}
